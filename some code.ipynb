{
 "cells": [
  {
   "cell_type": "code",
   "execution_count": 1,
   "id": "6dbac15f",
   "metadata": {
    "ExecuteTime": {
     "end_time": "2022-04-10T18:37:33.788838Z",
     "start_time": "2022-04-10T18:37:33.778319Z"
    }
   },
   "outputs": [],
   "source": [
    "%load_ext autoreload\n",
    "%autoreload 2"
   ]
  },
  {
   "cell_type": "code",
   "execution_count": 24,
   "id": "0f99e835",
   "metadata": {
    "ExecuteTime": {
     "end_time": "2022-04-10T19:02:43.128440Z",
     "start_time": "2022-04-10T19:02:43.103364Z"
    }
   },
   "outputs": [],
   "source": [
    "from data_utils import WoodDataset\n",
    "from torch.utils.data import DataLoader\n",
    "import torchvision.models as models\n",
    "from torch import nn\n",
    "import torch\n",
    "from torch.optim import lr_scheduler\n",
    "import torch.optim as optim\n",
    "\n",
    "from datetime import datetime\n",
    "import pandas as pd\n",
    "from sklearn.metrics import classification_report\n",
    "\n",
    "from os import path\n",
    "from tqdm.notebook import tqdm\n",
    "import joblib"
   ]
  },
  {
   "cell_type": "code",
   "execution_count": 3,
   "id": "d1a9a905",
   "metadata": {
    "ExecuteTime": {
     "end_time": "2022-04-10T18:37:34.622345Z",
     "start_time": "2022-04-10T18:37:34.591883Z"
    }
   },
   "outputs": [],
   "source": [
    "train_val_test_split_params = {\n",
    "    'test_size': 0.25,\n",
    "    'valid_size': 0.25,\n",
    "    'random_state': 42,\n",
    "    'stratify': 'target'\n",
    "}\n",
    "train_dataset = WoodDataset(\n",
    "    img_dir='data', \n",
    "    is_test=False, \n",
    "    task_type='classification', \n",
    "    dataset_role='train', \n",
    "    train_val_test_split_params=train_val_test_split_params\n",
    ")\n",
    "valid_dataset = WoodDataset(\n",
    "    img_dir='data', \n",
    "    is_test=False, \n",
    "    task_type='classification', \n",
    "    dataset_role='valid', \n",
    "    train_val_test_split_params=train_val_test_split_params\n",
    ")\n",
    "test_dataset = WoodDataset(\n",
    "    img_dir='data', \n",
    "    is_test=False, \n",
    "    task_type='classification', \n",
    "    dataset_role='test', \n",
    "    train_val_test_split_params=train_val_test_split_params\n",
    ")\n",
    "submission_dataset = WoodDataset(\n",
    "    img_dir='data', \n",
    "    is_test=True, \n",
    "    task_type='classification'\n",
    ")"
   ]
  },
  {
   "cell_type": "code",
   "execution_count": 4,
   "id": "52b29d27",
   "metadata": {
    "ExecuteTime": {
     "end_time": "2022-04-10T18:37:34.637418Z",
     "start_time": "2022-04-10T18:37:34.623583Z"
    }
   },
   "outputs": [],
   "source": [
    "batch_size = 32\n",
    "\n",
    "train_preset = {'batch_size': batch_size, 'shuffle': True, 'num_workers': 0, 'drop_last': True}\n",
    "test_preset = {'batch_size': 1, 'shuffle': False, 'num_workers': 0, 'drop_last': False}\n",
    "\n",
    "train_dataloader = DataLoader(train_dataset, **train_preset)\n",
    "valid_dataloader = DataLoader(valid_dataset, **train_preset)\n",
    "test_dataloader = DataLoader(test_dataset, **test_preset)\n",
    "submission_dataloader = DataLoader(submission_dataset, **test_preset)"
   ]
  },
  {
   "cell_type": "code",
   "execution_count": 5,
   "id": "37ebaab1",
   "metadata": {
    "ExecuteTime": {
     "end_time": "2022-04-10T18:37:34.651634Z",
     "start_time": "2022-04-10T18:37:34.638387Z"
    }
   },
   "outputs": [],
   "source": [
    "def layers_freeze(model):\n",
    "    for name, child in model.named_children():\n",
    "        for param in child.parameters():\n",
    "            param.requires_grad = False\n",
    "        layers_freeze(child)\n",
    "        \n",
    "        \n",
    "def layers_unfreeze(model):\n",
    "    for name, child in model.named_children():\n",
    "        for param in child.parameters():\n",
    "            param.requires_grad = True\n",
    "        layers_unfreeze(child)"
   ]
  },
  {
   "cell_type": "code",
   "execution_count": 6,
   "id": "7837640d",
   "metadata": {
    "ExecuteTime": {
     "end_time": "2022-04-10T18:37:34.668907Z",
     "start_time": "2022-04-10T18:37:34.652610Z"
    }
   },
   "outputs": [
    {
     "data": {
      "text/plain": [
       "<torch._C.Generator at 0x7f028410b650>"
      ]
     },
     "execution_count": 6,
     "metadata": {},
     "output_type": "execute_result"
    }
   ],
   "source": [
    "torch.manual_seed(42)"
   ]
  },
  {
   "cell_type": "code",
   "execution_count": 7,
   "id": "d42caa23",
   "metadata": {
    "ExecuteTime": {
     "end_time": "2022-04-10T18:37:34.743232Z",
     "start_time": "2022-04-10T18:37:34.669663Z"
    }
   },
   "outputs": [],
   "source": [
    "model = models.mobilenet_v2(pretrained=True)\n",
    "layers_freeze(model)\n",
    "model.classifier[1] = nn.Linear(model.classifier[1].in_features, 3)"
   ]
  },
  {
   "cell_type": "code",
   "execution_count": 8,
   "id": "d8005fc7",
   "metadata": {
    "ExecuteTime": {
     "end_time": "2022-04-10T18:37:34.757150Z",
     "start_time": "2022-04-10T18:37:34.744126Z"
    }
   },
   "outputs": [],
   "source": [
    "lr = 1e-3\n",
    "\n",
    "loss = nn.CrossEntropyLoss()\n",
    "optimizer = optim.Adam(model.parameters(), lr=lr)\n",
    "scheduler = lr_scheduler.StepLR(optimizer, 2, gamma=0.1, last_epoch=-1)"
   ]
  },
  {
   "cell_type": "code",
   "execution_count": 9,
   "id": "1316755d",
   "metadata": {
    "ExecuteTime": {
     "end_time": "2022-04-10T18:53:06.801818Z",
     "start_time": "2022-04-10T18:37:34.758007Z"
    }
   },
   "outputs": [
    {
     "data": {
      "application/vnd.jupyter.widget-view+json": {
       "model_id": "c1442f9ce8d347cb89a27f85d3b4e6d0",
       "version_major": 2,
       "version_minor": 0
      },
      "text/plain": [
       "  0%|          | 0/8 [00:00<?, ?batch/s]"
      ]
     },
     "metadata": {},
     "output_type": "display_data"
    },
    {
     "data": {
      "application/vnd.jupyter.widget-view+json": {
       "model_id": "1062ea7ad671417991288e5701489ef4",
       "version_major": 2,
       "version_minor": 0
      },
      "text/plain": [
       "  0%|          | 0/4 [00:00<?, ?batch/s]"
      ]
     },
     "metadata": {},
     "output_type": "display_data"
    },
    {
     "data": {
      "application/vnd.jupyter.widget-view+json": {
       "model_id": "39b84a230be4430e96455c06e370a70c",
       "version_major": 2,
       "version_minor": 0
      },
      "text/plain": [
       "  0%|          | 0/8 [00:00<?, ?batch/s]"
      ]
     },
     "metadata": {},
     "output_type": "display_data"
    },
    {
     "data": {
      "application/vnd.jupyter.widget-view+json": {
       "model_id": "f54d5aeb3d984a6382efe202d7d3c253",
       "version_major": 2,
       "version_minor": 0
      },
      "text/plain": [
       "  0%|          | 0/4 [00:00<?, ?batch/s]"
      ]
     },
     "metadata": {},
     "output_type": "display_data"
    },
    {
     "data": {
      "application/vnd.jupyter.widget-view+json": {
       "model_id": "83f17fdd945d4eb88dea4ce767fd58ad",
       "version_major": 2,
       "version_minor": 0
      },
      "text/plain": [
       "  0%|          | 0/8 [00:00<?, ?batch/s]"
      ]
     },
     "metadata": {},
     "output_type": "display_data"
    },
    {
     "data": {
      "application/vnd.jupyter.widget-view+json": {
       "model_id": "f48b09e7d5044ba2824a0a370a72629e",
       "version_major": 2,
       "version_minor": 0
      },
      "text/plain": [
       "  0%|          | 0/4 [00:00<?, ?batch/s]"
      ]
     },
     "metadata": {},
     "output_type": "display_data"
    },
    {
     "data": {
      "application/vnd.jupyter.widget-view+json": {
       "model_id": "802e1d9669ca466ea7e3f368520c78a2",
       "version_major": 2,
       "version_minor": 0
      },
      "text/plain": [
       "  0%|          | 0/8 [00:00<?, ?batch/s]"
      ]
     },
     "metadata": {},
     "output_type": "display_data"
    },
    {
     "data": {
      "application/vnd.jupyter.widget-view+json": {
       "model_id": "b3c8ef305ebe45a2beabade4087df9f2",
       "version_major": 2,
       "version_minor": 0
      },
      "text/plain": [
       "  0%|          | 0/4 [00:00<?, ?batch/s]"
      ]
     },
     "metadata": {},
     "output_type": "display_data"
    },
    {
     "data": {
      "application/vnd.jupyter.widget-view+json": {
       "model_id": "5c7ce8fb447a420b92ab02d898551411",
       "version_major": 2,
       "version_minor": 0
      },
      "text/plain": [
       "  0%|          | 0/8 [00:00<?, ?batch/s]"
      ]
     },
     "metadata": {},
     "output_type": "display_data"
    },
    {
     "data": {
      "application/vnd.jupyter.widget-view+json": {
       "model_id": "c558f3b60cdf482e8998a9e27d99d118",
       "version_major": 2,
       "version_minor": 0
      },
      "text/plain": [
       "  0%|          | 0/4 [00:00<?, ?batch/s]"
      ]
     },
     "metadata": {},
     "output_type": "display_data"
    },
    {
     "data": {
      "application/vnd.jupyter.widget-view+json": {
       "model_id": "b0ccf28802574fb88750ebbe848a6100",
       "version_major": 2,
       "version_minor": 0
      },
      "text/plain": [
       "  0%|          | 0/8 [00:00<?, ?batch/s]"
      ]
     },
     "metadata": {},
     "output_type": "display_data"
    },
    {
     "data": {
      "application/vnd.jupyter.widget-view+json": {
       "model_id": "77dc78732f1d43109c3743b9053f41bf",
       "version_major": 2,
       "version_minor": 0
      },
      "text/plain": [
       "  0%|          | 0/4 [00:00<?, ?batch/s]"
      ]
     },
     "metadata": {},
     "output_type": "display_data"
    },
    {
     "data": {
      "application/vnd.jupyter.widget-view+json": {
       "model_id": "16847cc3cae24d7eaddbbc54467b47b7",
       "version_major": 2,
       "version_minor": 0
      },
      "text/plain": [
       "  0%|          | 0/8 [00:00<?, ?batch/s]"
      ]
     },
     "metadata": {},
     "output_type": "display_data"
    },
    {
     "data": {
      "application/vnd.jupyter.widget-view+json": {
       "model_id": "9ff41c1a15a44017bd57a4857830e14a",
       "version_major": 2,
       "version_minor": 0
      },
      "text/plain": [
       "  0%|          | 0/4 [00:00<?, ?batch/s]"
      ]
     },
     "metadata": {},
     "output_type": "display_data"
    },
    {
     "data": {
      "application/vnd.jupyter.widget-view+json": {
       "model_id": "e9c8621a5fc248deaebe46fe2ddc601a",
       "version_major": 2,
       "version_minor": 0
      },
      "text/plain": [
       "  0%|          | 0/8 [00:00<?, ?batch/s]"
      ]
     },
     "metadata": {},
     "output_type": "display_data"
    },
    {
     "data": {
      "application/vnd.jupyter.widget-view+json": {
       "model_id": "ec20ebf7d4cf445d9122593801a03d90",
       "version_major": 2,
       "version_minor": 0
      },
      "text/plain": [
       "  0%|          | 0/4 [00:00<?, ?batch/s]"
      ]
     },
     "metadata": {},
     "output_type": "display_data"
    },
    {
     "data": {
      "application/vnd.jupyter.widget-view+json": {
       "model_id": "fd799c4ddbd8415a8b3343e73b8307e4",
       "version_major": 2,
       "version_minor": 0
      },
      "text/plain": [
       "  0%|          | 0/8 [00:00<?, ?batch/s]"
      ]
     },
     "metadata": {},
     "output_type": "display_data"
    },
    {
     "data": {
      "application/vnd.jupyter.widget-view+json": {
       "model_id": "7c3479b435d24f59a7d400aaa3409729",
       "version_major": 2,
       "version_minor": 0
      },
      "text/plain": [
       "  0%|          | 0/4 [00:00<?, ?batch/s]"
      ]
     },
     "metadata": {},
     "output_type": "display_data"
    },
    {
     "data": {
      "application/vnd.jupyter.widget-view+json": {
       "model_id": "8c419f8718a44f2ea32e772873e0c9f1",
       "version_major": 2,
       "version_minor": 0
      },
      "text/plain": [
       "  0%|          | 0/8 [00:00<?, ?batch/s]"
      ]
     },
     "metadata": {},
     "output_type": "display_data"
    },
    {
     "data": {
      "application/vnd.jupyter.widget-view+json": {
       "model_id": "3ae7eb4ef2594f8b87638712fa85f480",
       "version_major": 2,
       "version_minor": 0
      },
      "text/plain": [
       "  0%|          | 0/4 [00:00<?, ?batch/s]"
      ]
     },
     "metadata": {},
     "output_type": "display_data"
    }
   ],
   "source": [
    "device = torch.device('cuda' if torch.cuda.is_available() else 'cpu')\n",
    "n_epochs = 30\n",
    "\n",
    "train_epoch_losses = []\n",
    "valid_epoch_losses = []\n",
    "es_counter = 0\n",
    "for epoch in range(n_epochs):\n",
    "    if epoch == 6:\n",
    "        layers_unfreeze(model)\n",
    "        optimizer = optim.Adam(model.parameters(), lr=lr)\n",
    "        scheduler = lr_scheduler.StepLR(optimizer, 5, gamma=0.1, last_epoch=-1)\n",
    "    with tqdm(train_dataloader, unit=\"batch\") as tqdm_train_dataloader:\n",
    "        model.train()\n",
    "        train_loss = 0\n",
    "        train_cnt = 0\n",
    "        for batch in tqdm_train_dataloader:\n",
    "            tqdm_train_dataloader.set_description(f\"train Epoch {epoch}\")\n",
    "            model.zero_grad()\n",
    "            images = batch['image'].to(device)\n",
    "            targets = batch['target'].to(device)\n",
    "            bath_shape = images.shape[0]\n",
    "            train_cnt += bath_shape\n",
    "            \n",
    "            output = model(images)\n",
    "            batch_loss = loss(output, targets)\n",
    "            batch_loss.backward()\n",
    "            optimizer.step()\n",
    "            batch_loss_val = batch_loss.detach().item()\n",
    "            train_loss += batch_loss_val\n",
    "            tqdm_train_dataloader.set_postfix(\n",
    "                batch_loss=batch_loss_val / bath_shape,\n",
    "                epoch_loss=train_loss / train_cnt)\n",
    "    with torch.no_grad():\n",
    "        model.eval()\n",
    "        with tqdm(valid_dataloader, unit=\"batch\") as tqdm_valid_dataloader:\n",
    "            valid_loss = 0\n",
    "            valid_cnt = 0\n",
    "            for batch in tqdm_valid_dataloader:\n",
    "                tqdm_valid_dataloader.set_description(f\"valid Epoch {epoch}\")\n",
    "                images = batch['image'].to(device)\n",
    "                targets = batch['target'].to(device)\n",
    "                bath_shape = images.shape[0]\n",
    "                valid_cnt += bath_shape\n",
    "            \n",
    "                output = model(images)\n",
    "                batch_loss = loss(output, targets)\n",
    "                \n",
    "                batch_loss_val = batch_loss.detach().item()\n",
    "                valid_loss += batch_loss_val\n",
    "                \n",
    "                tqdm_valid_dataloader.set_postfix(\n",
    "                batch_loss=batch_loss_val / bath_shape,\n",
    "                epoch_loss=valid_loss / valid_cnt)\n",
    "    train_epoch_losses.append(train_loss / train_cnt)\n",
    "    valid_epoch_losses.append(valid_loss / valid_cnt)\n",
    "    now_time_str = datetime.now().strftime(\"%Y-%m-%d %H:%M:%S\")\n",
    "    torch.save(model.state_dict(),\n",
    "               path.join(\n",
    "                   'data',\n",
    "                   'nn_chpt',\n",
    "                   f'model_{epoch}_{now_time_str}_{round(train_epoch_losses[-1],5)}_{round(valid_epoch_losses[-1],5)}'))\n",
    "    if (len(valid_epoch_losses) > 1) and (valid_epoch_losses[-1] >= min(valid_epoch_losses[:-1])):\n",
    "        es_counter += 1\n",
    "    elif (len(valid_epoch_losses) > 1) and (valid_epoch_losses[-1] < min(valid_epoch_losses[:-1])):\n",
    "        es_counter = 0\n",
    "    if es_counter == 5:\n",
    "        break"
   ]
  },
  {
   "cell_type": "code",
   "execution_count": 23,
   "id": "42a6147f",
   "metadata": {
    "ExecuteTime": {
     "end_time": "2022-04-10T19:02:42.820523Z",
     "start_time": "2022-04-10T19:02:11.227070Z"
    }
   },
   "outputs": [
    {
     "data": {
      "application/vnd.jupyter.widget-view+json": {
       "model_id": "09d6b182d28e4e1b8803f4bb2106f6d3",
       "version_major": 2,
       "version_minor": 0
      },
      "text/plain": [
       "  0%|          | 0/134 [00:00<?, ?batch/s]"
      ]
     },
     "metadata": {},
     "output_type": "display_data"
    }
   ],
   "source": [
    "with torch.no_grad():\n",
    "    model.eval()\n",
    "    with tqdm(test_dataloader, unit=\"batch\") as tqdm_test_dataloader:\n",
    "        valid_loss = 0\n",
    "        valid_cnt = 0\n",
    "        pred = []\n",
    "        true = []\n",
    "        img_path = []\n",
    "        for batch in tqdm_test_dataloader:\n",
    "            images = batch['image'].to(device)\n",
    "            targets = batch['target'].to(device)\n",
    "            output = model(images)\n",
    "            pred.extend(torch.argmax(nn.functional.softmax(output, dim=1), dim=1).detach().numpy().tolist())\n",
    "            true.extend(targets.detach().numpy().tolist())\n",
    "            img_path.extend(batch['img_path'])\n",
    "test_df = pd.DataFrame({'true': true, 'pred': pred, 'img_path': img_path})"
   ]
  },
  {
   "cell_type": "code",
   "execution_count": 25,
   "id": "27475955",
   "metadata": {
    "ExecuteTime": {
     "end_time": "2022-04-10T19:03:07.957504Z",
     "start_time": "2022-04-10T19:03:07.941417Z"
    }
   },
   "outputs": [
    {
     "name": "stdout",
     "output_type": "stream",
     "text": [
      "              precision    recall  f1-score   support\n",
      "\n",
      "           0       0.95      0.92      0.94        64\n",
      "           1       0.96      0.94      0.95        53\n",
      "           2       0.75      0.88      0.81        17\n",
      "\n",
      "    accuracy                           0.93       134\n",
      "   macro avg       0.89      0.92      0.90       134\n",
      "weighted avg       0.93      0.93      0.93       134\n",
      "\n"
     ]
    }
   ],
   "source": [
    "print(classification_report(test_df.true, test_df.pred))"
   ]
  },
  {
   "cell_type": "code",
   "execution_count": 26,
   "id": "5b960568",
   "metadata": {
    "ExecuteTime": {
     "end_time": "2022-04-10T19:05:51.821309Z",
     "start_time": "2022-04-10T19:04:51.263697Z"
    }
   },
   "outputs": [
    {
     "data": {
      "application/vnd.jupyter.widget-view+json": {
       "model_id": "d8736c9add6142fbbda3c9cc8a244180",
       "version_major": 2,
       "version_minor": 0
      },
      "text/plain": [
       "  0%|          | 0/249 [00:00<?, ?batch/s]"
      ]
     },
     "metadata": {},
     "output_type": "display_data"
    }
   ],
   "source": [
    "with torch.no_grad():\n",
    "    model.eval()\n",
    "    with tqdm(submission_dataloader, unit=\"batch\") as tqdm_submission_dataloader:\n",
    "        valid_loss = 0\n",
    "        valid_cnt = 0\n",
    "        pred = []\n",
    "        img_path = []\n",
    "        for batch in tqdm_submission_dataloader:\n",
    "            images = batch['image'].to(device)\n",
    "            output = model(images)\n",
    "            pred.extend(torch.argmax(nn.functional.softmax(output, dim=1), dim=1).detach().numpy().tolist())\n",
    "            img_path.extend(batch['img_path'])\n",
    "test_df = pd.DataFrame({'pred': pred, 'img_path': img_path})"
   ]
  },
  {
   "cell_type": "code",
   "execution_count": 37,
   "id": "e11f4e9b",
   "metadata": {
    "ExecuteTime": {
     "end_time": "2022-04-10T19:12:12.133618Z",
     "start_time": "2022-04-10T19:12:12.110259Z"
    }
   },
   "outputs": [],
   "source": [
    "backward_mapping = {0: 1, 1: 3, 2: 0}\n",
    "\n",
    "test_df['id'] = test_df.img_path.map(lambda x: path.split(x)[-1].split('.')[0])\n",
    "test_df['class'] = test_df.pred.map(lambda x: backward_mapping[x])"
   ]
  },
  {
   "cell_type": "code",
   "execution_count": 40,
   "id": "6f99f20f",
   "metadata": {
    "ExecuteTime": {
     "end_time": "2022-04-10T19:14:20.516726Z",
     "start_time": "2022-04-10T19:14:20.498643Z"
    }
   },
   "outputs": [],
   "source": [
    "test_df[['id', 'class']].to_csv(path.join('data', 'mn_cls_9.csv'), index=False)"
   ]
  },
  {
   "cell_type": "code",
   "execution_count": null,
   "id": "d4867552",
   "metadata": {},
   "outputs": [],
   "source": []
  }
 ],
 "metadata": {
  "kernelspec": {
   "display_name": "Python 3 (ipykernel)",
   "language": "python",
   "name": "python3"
  },
  "language_info": {
   "codemirror_mode": {
    "name": "ipython",
    "version": 3
   },
   "file_extension": ".py",
   "mimetype": "text/x-python",
   "name": "python",
   "nbconvert_exporter": "python",
   "pygments_lexer": "ipython3",
   "version": "3.9.7"
  },
  "toc": {
   "base_numbering": 1,
   "nav_menu": {},
   "number_sections": true,
   "sideBar": true,
   "skip_h1_title": false,
   "title_cell": "Table of Contents",
   "title_sidebar": "Contents",
   "toc_cell": false,
   "toc_position": {},
   "toc_section_display": true,
   "toc_window_display": false
  }
 },
 "nbformat": 4,
 "nbformat_minor": 5
}
